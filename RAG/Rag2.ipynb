{
 "cells": [
  {
   "cell_type": "code",
   "execution_count": 100,
   "metadata": {},
   "outputs": [],
   "source": [
    "import os\n",
    "from dotenv import load_dotenv\n",
    "from langchain_text_splitters import RecursiveCharacterTextSplitter\n",
    "import fitz\n",
    "from llama_index.core.node_parser import SentenceSplitter\n",
    "import torch\n",
    "from sentence_transformers import SentenceTransformer\n",
    "from qdrant_client import QdrantClient  \n",
    "from qdrant_client.models import VectorParams, Distance\n",
    "from transformers import pipeline\n",
    "from huggingface_hub import InferenceClient\n",
    "\n",
    "\n",
    "\n",
    "\n",
    "\n",
    "\n",
    "\n",
    "\n"
   ]
  },
  {
   "cell_type": "code",
   "execution_count": 112,
   "metadata": {},
   "outputs": [],
   "source": [
    "# Load environment variables\n",
    "load_dotenv()\n",
    "HUGGINGFACE_API_KEY = os.environ.get(\"HUGGINGFACE_API_KEY\")"
   ]
  },
  {
   "cell_type": "code",
   "execution_count": null,
   "metadata": {},
   "outputs": [
    {
     "name": "stdout",
     "output_type": "stream",
     "text": [
      "JWPR026-Fabozzi\n",
      "c01\n",
      "June 22, 2008\n",
      "6:54\n",
      "CHAPTER 1\n",
      "Portfolio Selection\n",
      "FRANK J. FABOZZI, PhD, CFA, CPA\n",
      "Professor in the Practice of Finance, Yale School of Management\n",
      "HARRY M. MARKOWITZ, PhD\n",
      "Consultant\n",
      "FRANCIS GUPTA, PhD\n",
      "Director, Research, Dow Jones Indexes\n",
      "Some Basic Concepts\n",
      "4\n",
      "Utility Function and Indifference Curves\n",
      "4\n",
      "The Set of Efﬁcient Portfolios\n",
      "and the Optimal Portfolio\n",
      "4\n",
      "Risky Assets versus Risk-Free Assets\n",
      "4\n",
      "Measuring a Portfolio’s Expected Return\n",
      "5\n",
      "Measuring Single-Period Portfolio Return\n",
      "5\n",
      "The Expected Return of a Portfolio of Risky\n",
      "Assets\n",
      "5\n",
      "Measuring Portfolio Risk\n",
      "6\n",
      "Variance and Standard Deviation\n",
      "as a Measure of Risk\n",
      "6\n",
      "Measuring the Risk of a Portfolio Comprised\n",
      "of More than Two Assets\n",
      "8\n",
      "Portfolio Diversiﬁcation\n",
      "8\n",
      "Portfolio Risk and Correlation\n",
      "9\n",
      "The Effect of the Correlation of Asset Returns on\n",
      "Portfolio Risk\n",
      "9\n",
      "Choosing a Portfolio of Risky Assets\n",
      "9\n",
      "Constructing Efﬁcient Portfolios\n",
      "10\n",
      "Feasible and Efﬁcient Portfolios\n",
      "10\n",
      "Choosing the Optimal Portfolio in the Efﬁcient Set\n",
      "1\n"
     ]
    }
   ],
   "source": [
    "import os\n",
    "import fitz  # PyMuPDF\n",
    "\n",
    "# Define the file paths\n",
    "file_paths = [\n",
    "    os.path.join( \"information\", \"Investment Management.pdf\"),\n",
    "    os.path.join(\"information\", \"Journal of Finance.pdf\")\n",
    "]\n",
    "\n",
    "# Extract text from both PDFs\n",
    "entire_text = \"\"\n",
    "\n",
    "for file_path in file_paths:\n",
    "    if os.path.exists(file_path):\n",
    "        with fitz.open(file_path) as doc:\n",
    "            entire_text += \"\\n\\n\".join(page.get_text() for page in doc)\n",
    "    else:\n",
    "        print(f\"File not found: {file_path}\")  # Debugging statement\n",
    "\n",
    "# Print only the first 1000 characters to verify extraction\n",
    "print(entire_text[:1000])\n"
   ]
  },
  {
   "cell_type": "code",
   "execution_count": 114,
   "metadata": {},
   "outputs": [],
   "source": [
    "# Split text into chunks\n",
    "text_splitter = RecursiveCharacterTextSplitter(chunk_size=500, chunk_overlap=50)\n",
    "text_chunks = text_splitter.split_text(entire_text)\n",
    "\n",
    "llamaindex_splitter = SentenceSplitter(chunk_size=500, chunk_overlap=20)\n",
    "llamaindex_text_chunks = llamaindex_splitter.split_text(entire_text)"
   ]
  },
  {
   "cell_type": "code",
   "execution_count": 115,
   "metadata": {},
   "outputs": [
    {
     "name": "stderr",
     "output_type": "stream",
     "text": [
      "Batches: 100%|██████████| 7/7 [00:31<00:00,  4.43s/it]\n"
     ]
    }
   ],
   "source": [
    "# Load embedding model\n",
    "device = torch.device(\"cuda\" if torch.cuda.is_available() else \"cpu\")\n",
    "model_name = \"BAAI/bge-small-en-v1.5\"\n",
    "embedding_model = SentenceTransformer(model_name, device=device)\n",
    "embeddings = embedding_model.encode(text_chunks, show_progress_bar=True)"
   ]
  },
  {
   "cell_type": "code",
   "execution_count": 116,
   "metadata": {},
   "outputs": [
    {
     "name": "stdout",
     "output_type": "stream",
     "text": [
      "Collection 'qa_index' already exists.\n"
     ]
    }
   ],
   "source": [
    "# Set up Qdrant vector database\n",
    "client = QdrantClient(\"http://localhost:6333\")\n",
    "collection_name = \"qa_index\"\n",
    "\n",
    "# Check if the collection already exists\n",
    "existing_collections = [c.name for c in client.get_collections().collections]\n",
    "\n",
    "if collection_name not in existing_collections:\n",
    "    client.create_collection(\n",
    "        collection_name=collection_name,\n",
    "        vectors_config=VectorParams(size=384, distance=Distance.COSINE),\n",
    "    )\n",
    "    print(f\"Collection '{collection_name}' created successfully.\")\n",
    "else:\n",
    "    print(f\"Collection '{collection_name}' already exists.\")\n"
   ]
  },
  {
   "cell_type": "code",
   "execution_count": 117,
   "metadata": {},
   "outputs": [],
   "source": [
    "# Upload text chunks to Qdrant\n",
    "ids = list(range(len(text_chunks)))\n",
    "payload = [{\"source\": FILE_PATH, \"content\": text} for text in text_chunks]\n",
    "client.upload_collection(\n",
    "    collection_name=collection_name,\n",
    "    vectors=embeddings,\n",
    "    payload=payload,\n",
    "    ids=ids,\n",
    "    batch_size=256,\n",
    ")\n"
   ]
  },
  {
   "cell_type": "code",
   "execution_count": 118,
   "metadata": {},
   "outputs": [],
   "source": [
    "\n",
    "# Search function\n",
    "def search(text: str, top_k: int):\n",
    "    query_embedding = embedding_model.encode(text).tolist()\n",
    "    search_result = client.search(\n",
    "        collection_name=collection_name,\n",
    "        query_vector=query_embedding,\n",
    "        query_filter=None,  \n",
    "        limit=top_k\n",
    "    )\n",
    "    return search_result"
   ]
  },
  {
   "cell_type": "code",
   "execution_count": null,
   "metadata": {},
   "outputs": [
    {
     "name": "stderr",
     "output_type": "stream",
     "text": [
      "C:\\Program Files\\KMSpico\\temp\\ipykernel_8732\\410711507.py:4: DeprecationWarning: `search` method is deprecated and will be removed in the future. Use `query_points` instead.\n",
      "  search_result = client.search(\n"
     ]
    }
   ],
   "source": [
    "while True:\n",
    "    question = input(\"\\nEnter your question (or type 'exit' to stop): \")\n",
    "    \n",
    "    if question.lower() == \"exit\":\n",
    "        print(\"Goodbye!\")\n",
    "        break\n",
    "\n",
    "    results = search(question, top_k=5)\n",
    "    references = [obj.payload[\"content\"] for obj in results]\n",
    "    context = \"\\n\\n\".join(references)\n"
   ]
  },
  {
   "cell_type": "code",
   "execution_count": 129,
   "metadata": {},
   "outputs": [],
   "source": [
    "\n",
    "# Set up Hugging Face inference client\n",
    "hf_client = InferenceClient(model=\"mistralai/Mistral-7B-Instruct-v0.1\", token=HUGGINGFACE_API_KEY)\n",
    "\n",
    "# Full prompt formatting\n",
    "input_text = f\"\"\"You are an assistant for giving the objectives of tasks listed in a document. \n",
    "Answer the question only according to the given context.\n",
    "\n",
    "If the question cannot be answered using the context, simply say 'I don't know.' Do not make stuff up.\n",
    "\n",
    "Context:\n",
    "{context}\n",
    "\n",
    "Question: {question}\n",
    "\n",
    "Answer:\"\"\""
   ]
  },
  {
   "cell_type": "code",
   "execution_count": 130,
   "metadata": {},
   "outputs": [
    {
     "name": "stdout",
     "output_type": "stream",
     "text": [
      " A portfolio is a combination of different assets, such as stocks, bonds, and real estate, that are held together to achieve a specific investment objective, such as maximizing expected returns while minimizing risk.\n"
     ]
    }
   ],
   "source": [
    "response = hf_client.text_generation(input_text, max_new_tokens=200)\n",
    "\n",
    "print(response)"
   ]
  }
 ],
 "metadata": {
  "kernelspec": {
   "display_name": "ML",
   "language": "python",
   "name": "python3"
  },
  "language_info": {
   "codemirror_mode": {
    "name": "ipython",
    "version": 3
   },
   "file_extension": ".py",
   "mimetype": "text/x-python",
   "name": "python",
   "nbconvert_exporter": "python",
   "pygments_lexer": "ipython3",
   "version": "3.12.8"
  }
 },
 "nbformat": 4,
 "nbformat_minor": 2
}
